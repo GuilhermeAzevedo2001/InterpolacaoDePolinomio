{
  "nbformat": 4,
  "nbformat_minor": 0,
  "metadata": {
    "colab": {
      "provenance": [],
      "authorship_tag": "ABX9TyMnm8VGT/Q0CD5Rs9LHJdGk",
      "include_colab_link": true
    },
    "kernelspec": {
      "name": "python3",
      "display_name": "Python 3"
    },
    "language_info": {
      "name": "python"
    }
  },
  "cells": [
    {
      "cell_type": "markdown",
      "metadata": {
        "id": "view-in-github",
        "colab_type": "text"
      },
      "source": [
        "<a href=\"https://colab.research.google.com/github/GuilhermeAzevedo2001/InterpolacaoDePolinomio/blob/main/PolinomioInterpolador.ipynb\" target=\"_parent\"><img src=\"https://colab.research.google.com/assets/colab-badge.svg\" alt=\"Open In Colab\"/></a>"
      ]
    },
    {
      "cell_type": "markdown",
      "source": [
        "Exercício 2 - a)"
      ],
      "metadata": {
        "id": "fcJCKCuvbjJP"
      }
    },
    {
      "cell_type": "code",
      "execution_count": null,
      "metadata": {
        "colab": {
          "base_uri": "https://localhost:8080/"
        },
        "id": "9ZeHbFhRrRLy",
        "outputId": "3d735266-31aa-4d13-d688-4d9ad62360f2"
      },
      "outputs": [
        {
          "output_type": "stream",
          "name": "stdout",
          "text": [
            "Polinômio interpolador simplificado: k*x**2/2 + k*x/2 + 2*x**2 - x - 1\n"
          ]
        }
      ],
      "source": [
        "from sympy import symbols, simplify\n",
        "\n",
        "def lagrange_interpolation(points):\n",
        "    n = len(points)  # Numero de pontos\n",
        "    x = symbols('x')\n",
        "    polynomial = 0\n",
        "\n",
        "    for i in range(n):\n",
        "        x_i, y_i = points[i]\n",
        "        term = y_i\n",
        "\n",
        "        for j in range(n):\n",
        "            if i != j:\n",
        "                x_j, _ = points[j]\n",
        "                term *= (x - x_j) / (x_i - x_j)\n",
        "\n",
        "        polynomial += term\n",
        "\n",
        "    return simplify(polynomial)\n",
        "\n",
        "# Exemplo de uso\n",
        "points = [(-1, 2), (0, -1), (1, symbols('k'))]\n",
        "polynomial = lagrange_interpolation(points)\n",
        "print(f\"Polinômio interpolador simplificado: {polynomial}\")\n"
      ]
    },
    {
      "cell_type": "code",
      "source": [
        "from sympy import symbols, simplify\n",
        "\n",
        "def lagrange_interpolation(points):\n",
        "    n = len(points)  # Número de pontos\n",
        "    x  = symbols('x')\n",
        "    polynomial = 0\n",
        "\n",
        "    for i in range(n):\n",
        "        x_i, y_i = points[i]\n",
        "        term = y_i\n",
        "\n",
        "        for j in range(n):\n",
        "            if i != j:\n",
        "                x_j, _ = points[j]\n",
        "                term *= (x - x_j) / (x_i - x_j)\n",
        "\n",
        "        polynomial += term\n",
        "\n",
        "    return simplify(polynomial)\n",
        "\n",
        "# Exemplo de uso\n",
        "points = [(-1, 2), (0, -1), (1, symbols('k'))]\n",
        "polynomial = lagrange_interpolation(points)\n",
        "print(f\"Polinômio interpolador simplificado: {polynomial}\")\n"
      ],
      "metadata": {
        "colab": {
          "base_uri": "https://localhost:8080/"
        },
        "id": "B00BAzq8Fiay",
        "outputId": "56b48dc1-fe2c-4f0e-c952-8c07e7a30cba"
      },
      "execution_count": null,
      "outputs": [
        {
          "output_type": "stream",
          "name": "stdout",
          "text": [
            "Polinômio interpolador simplificado: k*x**2/2 + k*x/2 + 2*x**2 - x - 1\n"
          ]
        }
      ]
    },
    {
      "cell_type": "markdown",
      "source": [
        "Exercício 1"
      ],
      "metadata": {
        "id": "6vC-KJBMbU3u"
      }
    },
    {
      "cell_type": "code",
      "source": [
        "from sympy import symbols, simplify, solve\n",
        "\n",
        "def lagrange_interpolation(points):\n",
        "    n = len(points)  # Número de pontos\n",
        "    x = symbols('x')\n",
        "    polynomial = 0\n",
        "\n",
        "    for i in range(n):\n",
        "        x_i, y_i = points[i]\n",
        "        term = y_i\n",
        "\n",
        "        for j in range(n):\n",
        "            if i != j:\n",
        "                x_j, _ = points[j]\n",
        "                term *= (x - x_j) / (x_i - x_j)\n",
        "\n",
        "        polynomial += term\n",
        "\n",
        "    return simplify(polynomial)\n",
        "\n",
        "def find_x_value(points, target_value):\n",
        "    polynomial = lagrange_interpolation(points)\n",
        "    x = symbols('x')\n",
        "    equation = polynomial - target_value\n",
        "    x_values = solve(equation, x)\n",
        "\n",
        "    return x_values\n",
        "\n",
        "# Exemplo de uso\n",
        "points = [(1.2, 1.5), (2.3, 5.3), (3.1, 9.5)]\n",
        "target_value = 2\n",
        "\n",
        "polynomial = lagrange_interpolation(points)\n",
        "print(f\"Polinômio interpolador simplificado: {polynomial}\")\n",
        "\n",
        "x_values = find_x_value(points, target_value)\n",
        "print(f\"Valores de x para os quais o polinômio vale {target_value}: {x_values}\")\n"
      ],
      "metadata": {
        "colab": {
          "base_uri": "https://localhost:8080/"
        },
        "id": "0ZiOKv8jyDz7",
        "outputId": "dd5879c4-89b0-402b-a659-2a4a729ca1c9"
      },
      "execution_count": null,
      "outputs": [
        {
          "output_type": "stream",
          "name": "stdout",
          "text": [
            "Polinômio interpolador simplificado: 0.944976076555024*x**2 + 0.147129186602875*x - 0.0373205741626812\n",
            "Valores de x para os quais o polinômio vale 2: [-1.54822549974531, 1.39252929721366]\n"
          ]
        }
      ]
    },
    {
      "cell_type": "markdown",
      "source": [
        "Exercício 2 - b)"
      ],
      "metadata": {
        "id": "AWzr1IWKbtW7"
      }
    },
    {
      "cell_type": "code",
      "source": [
        "from sympy import symbols, simplify, solve\n",
        "\n",
        "def lagrange_interpolation(points):\n",
        "    n = len(points)  # Número de pontos\n",
        "    x = symbols('x')\n",
        "    polynomial = 0\n",
        "\n",
        "    for i in range(n):\n",
        "        x_i, y_i = points[i]\n",
        "        term = y_i\n",
        "\n",
        "        for j in range(n):\n",
        "            if i != j:\n",
        "                x_j, _ = points[j]\n",
        "                term *= (x - x_j) / (x_i - x_j)\n",
        "\n",
        "        polynomial += term\n",
        "\n",
        "    return simplify(polynomial)\n",
        "\n",
        "# Exemplo de uso\n",
        "points = [(-1, 2), (0, -1), (1, symbols('k'))]\n",
        "polynomial = lagrange_interpolation(points)\n",
        "print(f\"Polinômio interpolador simplificado: {polynomial}\")\n",
        "\n",
        "# Resolver o polinômio para k\n",
        "x_value, y_value = 0.5, -1.3\n",
        "k_values = solve(polynomial.subs([(symbols('x'), x_value), (symbols('k'), symbols('k'))]) - y_value, symbols('k'))\n",
        "print(f\"Valores de k para interpolar o ponto ({x_value}, {y_value}): {k_values}\")\n"
      ],
      "metadata": {
        "colab": {
          "base_uri": "https://localhost:8080/"
        },
        "id": "M6YF36TMFnfx",
        "outputId": "48839997-e848-488f-ef7d-771fe9328e40"
      },
      "execution_count": null,
      "outputs": [
        {
          "output_type": "stream",
          "name": "stdout",
          "text": [
            "Polinômio interpolador simplificado: k*x**2/2 + k*x/2 + 2*x**2 - x - 1\n",
            "Valores de k para interpolar o ponto (0.5, -1.3): [-0.800000000000000]\n"
          ]
        }
      ]
    },
    {
      "cell_type": "markdown",
      "source": [
        "Exercício 3 - a) e b)"
      ],
      "metadata": {
        "id": "FvpHJ2WCQUWs"
      }
    },
    {
      "cell_type": "code",
      "source": [
        "from sympy import symbols, simplify\n",
        "\n",
        "def lagrange_interpolation(points):\n",
        "    n = len(points)  # Numero de pontos\n",
        "    x = symbols('x')\n",
        "    polynomial = 0\n",
        "\n",
        "    for i in range(n):\n",
        "        x_i, y_i = points[i]\n",
        "        term = y_i\n",
        "\n",
        "        for j in range(n):\n",
        "            if i != j:\n",
        "                x_j, _ = points[j]\n",
        "                term *= (x - x_j) / (x_i - x_j)\n",
        "\n",
        "        polynomial += term\n",
        "\n",
        "    return simplify(polynomial)\n",
        "\n",
        "# Exemplo de uso\n",
        "points = [(1.0, 1.5), (1.3, 1.8), (2.0, 1.0)]\n",
        "x_value = 1.5\n",
        "\n",
        "polynomial = lagrange_interpolation(points)\n",
        "result = polynomial.subs('x', x_value)\n",
        "\n",
        "print(f\"Polinômio interpolador simplificado: {polynomial}\")\n",
        "print(f\"O valor do polinômio interpolador em x = {x_value} é {result}\")"
      ],
      "metadata": {
        "colab": {
          "base_uri": "https://localhost:8080/"
        },
        "id": "1hWfYVRuO08j",
        "outputId": "a5187094-2898-4901-a7f6-9039212cb233"
      },
      "execution_count": null,
      "outputs": [
        {
          "output_type": "stream",
          "name": "stdout",
          "text": [
            "Polinômio interpolador simplificado: -2.14285714285714*x**2 + 5.92857142857143*x - 2.28571428571428\n",
            "O valor do polinômio interpolador em x = 1.5 é 1.78571428571429\n"
          ]
        }
      ]
    },
    {
      "cell_type": "code",
      "source": [],
      "metadata": {
        "id": "0ymtvmRwPzMQ"
      },
      "execution_count": null,
      "outputs": []
    }
  ]
}